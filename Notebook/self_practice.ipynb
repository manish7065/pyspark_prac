{
 "cells": [
  {
   "cell_type": "code",
   "execution_count": 2,
   "metadata": {},
   "outputs": [
    {
     "name": "stderr",
     "output_type": "stream",
     "text": [
      "24/09/23 09:45:26 WARN Utils: Your hostname, manu-pc resolves to a loopback address: 127.0.1.1; using 192.168.0.110 instead (on interface wlp58s0)\n",
      "24/09/23 09:45:26 WARN Utils: Set SPARK_LOCAL_IP if you need to bind to another address\n",
      "Setting default log level to \"WARN\".\n",
      "To adjust logging level use sc.setLogLevel(newLevel). For SparkR, use setLogLevel(newLevel).\n",
      "24/09/23 09:45:27 WARN NativeCodeLoader: Unable to load native-hadoop library for your platform... using builtin-java classes where applicable\n"
     ]
    }
   ],
   "source": [
    "from pyspark.sql import SparkSession\n",
    "\n",
    "spark = SparkSession.builder.appName(\"demo\").getOrCreate()"
   ]
  },
  {
   "cell_type": "code",
   "execution_count": 3,
   "metadata": {},
   "outputs": [
    {
     "name": "stdout",
     "output_type": "stream",
     "text": [
      "+-----------+----------+---------+--------+------------+---------+----------+------+--------------+----------+-------------+\n",
      "|employee_id|FIRST_NAME|LAST_NAME|   EMAIL|PHONE_NUMBER|HIRE_DATE|    JOB_ID|SALARY|COMMISSION_PCT|MANAGER_ID|DEPARTMENT_ID|\n",
      "+-----------+----------+---------+--------+------------+---------+----------+------+--------------+----------+-------------+\n",
      "|        198|    Donald| OConnell|DOCONNEL|650.507.9833|21-JUN-07|  SH_CLERK|  2600|          NULL|       124|           50|\n",
      "|        199|   Douglas|    Grant|  DGRANT|650.507.9844|13-JAN-08|  SH_CLERK|  2600|          NULL|       124|           50|\n",
      "|        200|  Jennifer|   Whalen| JWHALEN|515.123.4444|17-SEP-03|   AD_ASST|  4400|          NULL|       101|           10|\n",
      "|        201|   Michael|Hartstein|MHARTSTE|515.123.5555|17-FEB-04|    MK_MAN| 13000|          NULL|       100|           20|\n",
      "|        202|       Pat|      Fay|    PFAY|603.123.6666|17-AUG-05|    MK_REP|  6000|          NULL|       201|           20|\n",
      "|        203|     Susan|   Mavris| SMAVRIS|515.123.7777|07-JUN-02|    HR_REP|  6500|          NULL|       101|           40|\n",
      "|        204|   Hermann|     Baer|   HBAER|515.123.8888|07-JUN-02|    PR_REP| 10000|          NULL|       101|           70|\n",
      "|        205|   Shelley|  Higgins|SHIGGINS|515.123.8080|07-JUN-02|    AC_MGR| 12008|          NULL|       101|          110|\n",
      "|        206|   William|    Gietz|  WGIETZ|515.123.8181|07-JUN-02|AC_ACCOUNT|  8300|          NULL|       205|          110|\n",
      "|        100|    Steven|     King|   SKING|515.123.4567|17-JUN-03|   AD_PRES| 24000|          NULL|      NULL|           90|\n",
      "|        101|     Neena|  Kochhar|NKOCHHAR|515.123.4568|21-SEP-05|     AD_VP| 17000|          NULL|       100|           90|\n",
      "|        102|       Lex|  De Haan| LDEHAAN|515.123.4569|13-JAN-01|     AD_VP| 17000|          NULL|       100|           90|\n",
      "|        103| Alexander|   Hunold| AHUNOLD|590.423.4567|03-JAN-06|   IT_PROG|  9000|          NULL|       102|           60|\n",
      "|        104|     Bruce|    Ernst|  BERNST|590.423.4568|21-MAY-07|   IT_PROG|  6000|          NULL|       103|           60|\n",
      "|        105|     David|   Austin| DAUSTIN|590.423.4569|25-JUN-05|   IT_PROG|  4800|          NULL|       103|           60|\n",
      "|        106|     Valli|Pataballa|VPATABAL|590.423.4560|05-FEB-06|   IT_PROG|  4800|          NULL|       103|           60|\n",
      "|        107|     Diana|  Lorentz|DLORENTZ|590.423.5567|07-FEB-07|   IT_PROG|  4200|          NULL|       103|           60|\n",
      "|        108|     Nancy|Greenberg|NGREENBE|515.124.4569|17-AUG-02|    FI_MGR| 12008|          NULL|       101|          100|\n",
      "|        109|    Daniel|   Faviet| DFAVIET|515.124.4169|16-AUG-02|FI_ACCOUNT|  9000|          NULL|       108|          100|\n",
      "|        110|      John|     Chen|   JCHEN|515.124.4269|28-SEP-05|FI_ACCOUNT|  8200|          NULL|       108|          100|\n",
      "+-----------+----------+---------+--------+------------+---------+----------+------+--------------+----------+-------------+\n",
      "only showing top 20 rows\n",
      "\n"
     ]
    },
    {
     "name": "stderr",
     "output_type": "stream",
     "text": [
      "24/09/23 09:45:41 WARN GarbageCollectionMetrics: To enable non-built-in garbage collector(s) List(G1 Concurrent GC), users should configure it(them) to spark.eventLog.gcMetrics.youngGenerationGarbageCollectors or spark.eventLog.gcMetrics.oldGenerationGarbageCollectors\n"
     ]
    }
   ],
   "source": [
    "df = spark.read.csv(\"../data/employees.csv\", header='True', inferSchema=\"True\")\n",
    "df.show()\n"
   ]
  },
  {
   "cell_type": "markdown",
   "metadata": {},
   "source": [
    "WITH RECURSIVE employee_hierarchy AS (\n",
    "    SELECT id, name, manager_id, 0 AS level\n",
    "    FROM employee\n",
    "    WHERE manager_id IS NULL  -- Start from the top-level manager (e.g., CEO)\n",
    "\n",
    "    UNION ALL\n",
    "\n",
    "    SELECT e.id, e.name, e.manager_id, eh.level + 1\n",
    "    FROM employee e\n",
    "    INNER JOIN employee_hierarchy eh ON e.manager_id = eh.id\n",
    ")\n",
    "\n",
    "SELECT id, name, manager_id, level\n",
    "FROM employee_hierarchy\n",
    "ORDER BY level, name;\n"
   ]
  },
  {
   "cell_type": "code",
   "execution_count": 10,
   "metadata": {},
   "outputs": [
    {
     "data": {
      "text/plain": [
       "['employee_id',\n",
       " 'FIRST_NAME',\n",
       " 'LAST_NAME',\n",
       " 'EMAIL',\n",
       " 'PHONE_NUMBER',\n",
       " 'HIRE_DATE',\n",
       " 'JOB_ID',\n",
       " 'SALARY',\n",
       " 'COMMISSION_PCT',\n",
       " 'MANAGER_ID',\n",
       " 'DEPARTMENT_ID']"
      ]
     },
     "execution_count": 10,
     "metadata": {},
     "output_type": "execute_result"
    }
   ],
   "source": [
    "df.columns"
   ]
  },
  {
   "cell_type": "markdown",
   "metadata": {},
   "source": [
    "## Trying to get the employee name along with manager name "
   ]
  },
  {
   "cell_type": "code",
   "execution_count": 11,
   "metadata": {},
   "outputs": [
    {
     "ename": "ParseException",
     "evalue": "\n[PARSE_SYNTAX_ERROR] Syntax error at or near 'employee_hierarchy'.(line 1, pos 15)\n\n== SQL ==\nWITH RECURSIVE employee_hierarchy AS (\n---------------^^^\n    SELECT employee_id, FIRST_NAME, MANAGER_ID, 0 AS level\n    FROM employee\n    WHERE manager_id IS NULL \n\n    UNION ALL\n\n    SELECT e.employee_id, e.FIRST_NAME, e.MANAGER_ID, eh.level + 1\n    FROM employee e\n    INNER JOIN employee_hierarchy eh ON e.MANAGER_ID = eh.employee_id\n)\n\nSELECT employee_id, FIRST_NAME, MANAGER_ID, level\nFROM employee_hierarchy\nORDER BY level, FIRST_NAME;\n",
     "output_type": "error",
     "traceback": [
      "\u001b[0;31m---------------------------------------------------------------------------\u001b[0m",
      "\u001b[0;31mParseException\u001b[0m                            Traceback (most recent call last)",
      "Cell \u001b[0;32mIn[11], line 20\u001b[0m\n\u001b[1;32m      1\u001b[0m query \u001b[38;5;241m=\u001b[39m \u001b[38;5;124m\"\"\"\u001b[39m\u001b[38;5;124mWITH RECURSIVE employee_hierarchy AS (\u001b[39m\n\u001b[1;32m      2\u001b[0m \u001b[38;5;124m    SELECT employee_id, FIRST_NAME, MANAGER_ID, 0 AS level\u001b[39m\n\u001b[1;32m      3\u001b[0m \u001b[38;5;124m    FROM employee\u001b[39m\n\u001b[0;32m   (...)\u001b[0m\n\u001b[1;32m     15\u001b[0m \u001b[38;5;124mORDER BY level, FIRST_NAME;\u001b[39m\n\u001b[1;32m     16\u001b[0m \u001b[38;5;124m\"\"\"\u001b[39m\n\u001b[1;32m     18\u001b[0m df\u001b[38;5;241m.\u001b[39mcreateOrReplaceTempView(\u001b[38;5;124m\"\u001b[39m\u001b[38;5;124memployee\u001b[39m\u001b[38;5;124m\"\u001b[39m)\n\u001b[0;32m---> 20\u001b[0m \u001b[43mspark\u001b[49m\u001b[38;5;241;43m.\u001b[39;49m\u001b[43msql\u001b[49m\u001b[43m(\u001b[49m\u001b[43mquery\u001b[49m\u001b[43m)\u001b[49m\u001b[38;5;241m.\u001b[39mshow()\n",
      "File \u001b[0;32m~/.local/lib/python3.10/site-packages/pyspark/sql/session.py:1631\u001b[0m, in \u001b[0;36mSparkSession.sql\u001b[0;34m(self, sqlQuery, args, **kwargs)\u001b[0m\n\u001b[1;32m   1627\u001b[0m         \u001b[38;5;28;01massert\u001b[39;00m \u001b[38;5;28mself\u001b[39m\u001b[38;5;241m.\u001b[39m_jvm \u001b[38;5;129;01mis\u001b[39;00m \u001b[38;5;129;01mnot\u001b[39;00m \u001b[38;5;28;01mNone\u001b[39;00m\n\u001b[1;32m   1628\u001b[0m         litArgs \u001b[38;5;241m=\u001b[39m \u001b[38;5;28mself\u001b[39m\u001b[38;5;241m.\u001b[39m_jvm\u001b[38;5;241m.\u001b[39mPythonUtils\u001b[38;5;241m.\u001b[39mtoArray(\n\u001b[1;32m   1629\u001b[0m             [_to_java_column(lit(v)) \u001b[38;5;28;01mfor\u001b[39;00m v \u001b[38;5;129;01min\u001b[39;00m (args \u001b[38;5;129;01mor\u001b[39;00m [])]\n\u001b[1;32m   1630\u001b[0m         )\n\u001b[0;32m-> 1631\u001b[0m     \u001b[38;5;28;01mreturn\u001b[39;00m DataFrame(\u001b[38;5;28;43mself\u001b[39;49m\u001b[38;5;241;43m.\u001b[39;49m\u001b[43m_jsparkSession\u001b[49m\u001b[38;5;241;43m.\u001b[39;49m\u001b[43msql\u001b[49m\u001b[43m(\u001b[49m\u001b[43msqlQuery\u001b[49m\u001b[43m,\u001b[49m\u001b[43m \u001b[49m\u001b[43mlitArgs\u001b[49m\u001b[43m)\u001b[49m, \u001b[38;5;28mself\u001b[39m)\n\u001b[1;32m   1632\u001b[0m \u001b[38;5;28;01mfinally\u001b[39;00m:\n\u001b[1;32m   1633\u001b[0m     \u001b[38;5;28;01mif\u001b[39;00m \u001b[38;5;28mlen\u001b[39m(kwargs) \u001b[38;5;241m>\u001b[39m \u001b[38;5;241m0\u001b[39m:\n",
      "File \u001b[0;32m~/.local/lib/python3.10/site-packages/py4j/java_gateway.py:1322\u001b[0m, in \u001b[0;36mJavaMember.__call__\u001b[0;34m(self, *args)\u001b[0m\n\u001b[1;32m   1316\u001b[0m command \u001b[38;5;241m=\u001b[39m proto\u001b[38;5;241m.\u001b[39mCALL_COMMAND_NAME \u001b[38;5;241m+\u001b[39m\\\n\u001b[1;32m   1317\u001b[0m     \u001b[38;5;28mself\u001b[39m\u001b[38;5;241m.\u001b[39mcommand_header \u001b[38;5;241m+\u001b[39m\\\n\u001b[1;32m   1318\u001b[0m     args_command \u001b[38;5;241m+\u001b[39m\\\n\u001b[1;32m   1319\u001b[0m     proto\u001b[38;5;241m.\u001b[39mEND_COMMAND_PART\n\u001b[1;32m   1321\u001b[0m answer \u001b[38;5;241m=\u001b[39m \u001b[38;5;28mself\u001b[39m\u001b[38;5;241m.\u001b[39mgateway_client\u001b[38;5;241m.\u001b[39msend_command(command)\n\u001b[0;32m-> 1322\u001b[0m return_value \u001b[38;5;241m=\u001b[39m \u001b[43mget_return_value\u001b[49m\u001b[43m(\u001b[49m\n\u001b[1;32m   1323\u001b[0m \u001b[43m    \u001b[49m\u001b[43manswer\u001b[49m\u001b[43m,\u001b[49m\u001b[43m \u001b[49m\u001b[38;5;28;43mself\u001b[39;49m\u001b[38;5;241;43m.\u001b[39;49m\u001b[43mgateway_client\u001b[49m\u001b[43m,\u001b[49m\u001b[43m \u001b[49m\u001b[38;5;28;43mself\u001b[39;49m\u001b[38;5;241;43m.\u001b[39;49m\u001b[43mtarget_id\u001b[49m\u001b[43m,\u001b[49m\u001b[43m \u001b[49m\u001b[38;5;28;43mself\u001b[39;49m\u001b[38;5;241;43m.\u001b[39;49m\u001b[43mname\u001b[49m\u001b[43m)\u001b[49m\n\u001b[1;32m   1325\u001b[0m \u001b[38;5;28;01mfor\u001b[39;00m temp_arg \u001b[38;5;129;01min\u001b[39;00m temp_args:\n\u001b[1;32m   1326\u001b[0m     \u001b[38;5;28;01mif\u001b[39;00m \u001b[38;5;28mhasattr\u001b[39m(temp_arg, \u001b[38;5;124m\"\u001b[39m\u001b[38;5;124m_detach\u001b[39m\u001b[38;5;124m\"\u001b[39m):\n",
      "File \u001b[0;32m~/.local/lib/python3.10/site-packages/pyspark/errors/exceptions/captured.py:185\u001b[0m, in \u001b[0;36mcapture_sql_exception.<locals>.deco\u001b[0;34m(*a, **kw)\u001b[0m\n\u001b[1;32m    181\u001b[0m converted \u001b[38;5;241m=\u001b[39m convert_exception(e\u001b[38;5;241m.\u001b[39mjava_exception)\n\u001b[1;32m    182\u001b[0m \u001b[38;5;28;01mif\u001b[39;00m \u001b[38;5;129;01mnot\u001b[39;00m \u001b[38;5;28misinstance\u001b[39m(converted, UnknownException):\n\u001b[1;32m    183\u001b[0m     \u001b[38;5;66;03m# Hide where the exception came from that shows a non-Pythonic\u001b[39;00m\n\u001b[1;32m    184\u001b[0m     \u001b[38;5;66;03m# JVM exception message.\u001b[39;00m\n\u001b[0;32m--> 185\u001b[0m     \u001b[38;5;28;01mraise\u001b[39;00m converted \u001b[38;5;28;01mfrom\u001b[39;00m \u001b[38;5;28;01mNone\u001b[39;00m\n\u001b[1;32m    186\u001b[0m \u001b[38;5;28;01melse\u001b[39;00m:\n\u001b[1;32m    187\u001b[0m     \u001b[38;5;28;01mraise\u001b[39;00m\n",
      "\u001b[0;31mParseException\u001b[0m: \n[PARSE_SYNTAX_ERROR] Syntax error at or near 'employee_hierarchy'.(line 1, pos 15)\n\n== SQL ==\nWITH RECURSIVE employee_hierarchy AS (\n---------------^^^\n    SELECT employee_id, FIRST_NAME, MANAGER_ID, 0 AS level\n    FROM employee\n    WHERE manager_id IS NULL \n\n    UNION ALL\n\n    SELECT e.employee_id, e.FIRST_NAME, e.MANAGER_ID, eh.level + 1\n    FROM employee e\n    INNER JOIN employee_hierarchy eh ON e.MANAGER_ID = eh.employee_id\n)\n\nSELECT employee_id, FIRST_NAME, MANAGER_ID, level\nFROM employee_hierarchy\nORDER BY level, FIRST_NAME;\n"
     ]
    }
   ],
   "source": [
    "query = \"\"\"WITH RECURSIVE employee_hierarchy AS (\n",
    "    SELECT employee_id, FIRST_NAME, MANAGER_ID, 0 AS level\n",
    "    FROM employee\n",
    "    WHERE manager_id IS NULL \n",
    "\n",
    "    UNION ALL\n",
    "\n",
    "    SELECT e.employee_id, e.FIRST_NAME, e.MANAGER_ID, eh.level + 1\n",
    "    FROM employee e\n",
    "    INNER JOIN employee_hierarchy eh ON e.MANAGER_ID = eh.employee_id\n",
    ")\n",
    "\n",
    "SELECT employee_id, FIRST_NAME, MANAGER_ID, level\n",
    "FROM employee_hierarchy\n",
    "ORDER BY level, FIRST_NAME;\n",
    "\"\"\"\n",
    "\n",
    "df.createOrReplaceTempView(\"employee\")\n",
    "\n",
    "spark.sql(query).show()"
   ]
  },
  {
   "cell_type": "code",
   "execution_count": 4,
   "metadata": {},
   "outputs": [
    {
     "name": "stdout",
     "output_type": "stream",
     "text": [
      "+-------+---------+--------+-----+----------+\n",
      "|OrderID|ProductID|Quantity|Price| OrderDate|\n",
      "+-------+---------+--------+-----+----------+\n",
      "|      1|      101|       3|  100|2023-01-01|\n",
      "|      2|      102|       1|  200|2023-01-02|\n",
      "|      3|      101|       2|  100|2023-01-03|\n",
      "|      4|      103|       5|   50|2023-01-04|\n",
      "+-------+---------+--------+-----+----------+\n",
      "\n"
     ]
    }
   ],
   "source": [
    "select \n",
    "\n",
    "FIRST_NAME, \n",
    "case when MANAGER_ID='NULL' then \"HOD\" else el\n",
    "FIRST_NAME as mgr_name"
   ]
  },
  {
   "cell_type": "raw",
   "metadata": {
    "vscode": {
     "languageId": "raw"
    }
   },
   "source": [
    "# working querry in postgres for fetching employee name with manager name from employees table\n",
    "\n",
    "\n",
    "select e.employee_id, e.first_name, m.first_name as manager_name\n",
    "from employees e\n",
    "left join employees m on e.manager_id = m.employee_id;\n",
    "\n",
    "# try this query with pyspark\n",
    "\n",
    "# also try below for hierarchy\n",
    "\n",
    "WITH RECURSIVE EmployeeHierarchy AS (\n",
    "    SELECT \n",
    "        employee_id,\n",
    "        employee_name,\n",
    "        manager_id,\n",
    "        0 AS level -- Root level (top manager)\n",
    "    FROM \n",
    "        employees\n",
    "    WHERE \n",
    "        manager_id IS NULL -- Starting point for the hierarchy (top-level managers)\n",
    "\n",
    "    UNION ALL\n",
    "\n",
    "    SELECT \n",
    "        e.employee_id,\n",
    "        e.employee_name,\n",
    "        e.manager_id,\n",
    "        eh.level + 1 AS level -- Increment level for each level down the hierarchy\n",
    "    FROM \n",
    "        employees e\n",
    "    INNER JOIN \n",
    "        EmployeeHierarchy eh ON e.manager_id = eh.employee_id\n",
    ")\n",
    "SELECT \n",
    "    eh.employee_id,\n",
    "    eh.employee_name,\n",
    "    eh.manager_id,\n",
    "    eh.level,\n",
    "    m.employee_name AS manager_name -- Include manager's name\n",
    "FROM \n",
    "    EmployeeHierarchy eh\n",
    "LEFT JOIN \n",
    "    employees m ON eh.manager_id = m.employee_id -- Join to get the manager's name\n",
    "ORDER BY \n",
    "    eh.level, eh.employee_id; -- Order by hierarchy level and employee ID\n",
    "\n"
   ]
  },
  {
   "cell_type": "code",
   "execution_count": 5,
   "metadata": {},
   "outputs": [],
   "source": [
    "df.createOrReplaceTempView(\"employees\")"
   ]
  },
  {
   "cell_type": "code",
   "execution_count": 8,
   "metadata": {},
   "outputs": [
    {
     "name": "stdout",
     "output_type": "stream",
     "text": [
      "+-----------+----------+------------+\n",
      "|employee_id|first_name|manager_name|\n",
      "+-----------+----------+------------+\n",
      "|        198|    Donald|       Kevin|\n",
      "|        199|   Douglas|       Kevin|\n",
      "|        200|  Jennifer|       Neena|\n",
      "|        201|   Michael|      Steven|\n",
      "|        202|       Pat|     Michael|\n",
      "|        203|     Susan|       Neena|\n",
      "|        204|   Hermann|       Neena|\n",
      "|        205|   Shelley|       Neena|\n",
      "|        206|   William|     Shelley|\n",
      "|        100|    Steven|        NULL|\n",
      "|        101|     Neena|      Steven|\n",
      "|        102|       Lex|      Steven|\n",
      "|        103| Alexander|         Lex|\n",
      "|        104|     Bruce|   Alexander|\n",
      "|        105|     David|   Alexander|\n",
      "|        106|     Valli|   Alexander|\n",
      "|        107|     Diana|   Alexander|\n",
      "|        108|     Nancy|       Neena|\n",
      "|        109|    Daniel|       Nancy|\n",
      "|        110|      John|       Nancy|\n",
      "+-----------+----------+------------+\n",
      "only showing top 20 rows\n",
      "\n"
     ]
    }
   ],
   "source": [
    "from unittest.util import safe_repr\n",
    "\n",
    "\n",
    "# query = \"select * from employees;\"  # working\n",
    "query =  \"\"\"\n",
    "select e.employee_id, e.first_name, m.first_name as manager_name\n",
    "from employees e\n",
    "left join employees m on e.manager_id = m.employee_id;\n",
    "\"\"\"\n",
    "\n",
    "spark.sql(query).show()"
   ]
  },
  {
   "cell_type": "code",
   "execution_count": 10,
   "metadata": {},
   "outputs": [
    {
     "name": "stdout",
     "output_type": "stream",
     "text": [
      "+-----------+----------+\n",
      "|employee_id|first_name|\n",
      "+-----------+----------+\n",
      "|        198|    Donald|\n",
      "|        199|   Douglas|\n",
      "|        200|  Jennifer|\n",
      "|        201|   Michael|\n",
      "|        202|       Pat|\n",
      "|        203|     Susan|\n",
      "|        204|   Hermann|\n",
      "|        205|   Shelley|\n",
      "|        206|   William|\n",
      "|        100|    Steven|\n",
      "|        101|     Neena|\n",
      "|        102|       Lex|\n",
      "|        103| Alexander|\n",
      "|        104|     Bruce|\n",
      "|        105|     David|\n",
      "|        106|     Valli|\n",
      "|        107|     Diana|\n",
      "|        108|     Nancy|\n",
      "|        109|    Daniel|\n",
      "|        110|      John|\n",
      "+-----------+----------+\n",
      "only showing top 20 rows\n",
      "\n"
     ]
    }
   ],
   "source": [
    "df.select(\"employee_id\",\"first_name\").show()"
   ]
  },
  {
   "cell_type": "code",
   "execution_count": 11,
   "metadata": {},
   "outputs": [
    {
     "name": "stdout",
     "output_type": "stream",
     "text": [
      "+-----------+----------+----------+\n",
      "|employee_id|first_name|first_name|\n",
      "+-----------+----------+----------+\n",
      "|        198|    Donald|     Kevin|\n",
      "|        199|   Douglas|     Kevin|\n",
      "|        200|  Jennifer|     Neena|\n",
      "|        201|   Michael|    Steven|\n",
      "|        202|       Pat|   Michael|\n",
      "|        203|     Susan|     Neena|\n",
      "|        204|   Hermann|     Neena|\n",
      "|        205|   Shelley|     Neena|\n",
      "|        206|   William|   Shelley|\n",
      "|        100|    Steven|      NULL|\n",
      "|        101|     Neena|    Steven|\n",
      "|        102|       Lex|    Steven|\n",
      "|        103| Alexander|       Lex|\n",
      "|        104|     Bruce| Alexander|\n",
      "|        105|     David| Alexander|\n",
      "|        106|     Valli| Alexander|\n",
      "|        107|     Diana| Alexander|\n",
      "|        108|     Nancy|     Neena|\n",
      "|        109|    Daniel|     Nancy|\n",
      "|        110|      John|     Nancy|\n",
      "+-----------+----------+----------+\n",
      "only showing top 20 rows\n",
      "\n"
     ]
    }
   ],
   "source": [
    "from pyspark.sql.functions import col\n",
    "\n",
    "df.alias(\"e\")\\\n",
    "    .join(df.alias('m'), col(\"e.manager_id\")==col(\"m.employee_id\"), \"left\")\\\n",
    "    .select(col(\"e.employee_id\"), col(\"e.first_name\"), col(\"m.first_name\")).show()"
   ]
  },
  {
   "cell_type": "code",
   "execution_count": 12,
   "metadata": {},
   "outputs": [
    {
     "name": "stderr",
     "output_type": "stream",
     "text": [
      "[Stage 10:>                                                         (0 + 1) / 1]\r"
     ]
    },
    {
     "name": "stdout",
     "output_type": "stream",
     "text": [
      "+-----------+----------+---------+--------+------------+---------+----------+------+--------------+----------+-------------+---------------+\n",
      "|employee_id|FIRST_NAME|LAST_NAME|   EMAIL|PHONE_NUMBER|HIRE_DATE|    JOB_ID|SALARY|COMMISSION_PCT|MANAGER_ID|DEPARTMENT_ID|salary category|\n",
      "+-----------+----------+---------+--------+------------+---------+----------+------+--------------+----------+-------------+---------------+\n",
      "|        198|    Donald| OConnell|DOCONNEL|650.507.9833|21-JUN-07|  SH_CLERK|  2600|          NULL|       124|           50|   low salaried|\n",
      "|        199|   Douglas|    Grant|  DGRANT|650.507.9844|13-JAN-08|  SH_CLERK|  2600|          NULL|       124|           50|   low salaried|\n",
      "|        200|  Jennifer|   Whalen| JWHALEN|515.123.4444|17-SEP-03|   AD_ASST|  4400|          NULL|       101|           10|   low salaried|\n",
      "|        201|   Michael|Hartstein|MHARTSTE|515.123.5555|17-FEB-04|    MK_MAN| 13000|          NULL|       100|           20|  High salaried|\n",
      "|        202|       Pat|      Fay|    PFAY|603.123.6666|17-AUG-05|    MK_REP|  6000|          NULL|       201|           20|   mid salaried|\n",
      "|        203|     Susan|   Mavris| SMAVRIS|515.123.7777|07-JUN-02|    HR_REP|  6500|          NULL|       101|           40|   mid salaried|\n",
      "|        204|   Hermann|     Baer|   HBAER|515.123.8888|07-JUN-02|    PR_REP| 10000|          NULL|       101|           70|  High salaried|\n",
      "|        205|   Shelley|  Higgins|SHIGGINS|515.123.8080|07-JUN-02|    AC_MGR| 12008|          NULL|       101|          110|  High salaried|\n",
      "|        206|   William|    Gietz|  WGIETZ|515.123.8181|07-JUN-02|AC_ACCOUNT|  8300|          NULL|       205|          110|   mid salaried|\n",
      "|        100|    Steven|     King|   SKING|515.123.4567|17-JUN-03|   AD_PRES| 24000|          NULL|      NULL|           90|  High salaried|\n",
      "|        101|     Neena|  Kochhar|NKOCHHAR|515.123.4568|21-SEP-05|     AD_VP| 17000|          NULL|       100|           90|  High salaried|\n",
      "|        102|       Lex|  De Haan| LDEHAAN|515.123.4569|13-JAN-01|     AD_VP| 17000|          NULL|       100|           90|  High salaried|\n",
      "|        103| Alexander|   Hunold| AHUNOLD|590.423.4567|03-JAN-06|   IT_PROG|  9000|          NULL|       102|           60|   mid salaried|\n",
      "|        104|     Bruce|    Ernst|  BERNST|590.423.4568|21-MAY-07|   IT_PROG|  6000|          NULL|       103|           60|   mid salaried|\n",
      "|        105|     David|   Austin| DAUSTIN|590.423.4569|25-JUN-05|   IT_PROG|  4800|          NULL|       103|           60|   low salaried|\n",
      "|        106|     Valli|Pataballa|VPATABAL|590.423.4560|05-FEB-06|   IT_PROG|  4800|          NULL|       103|           60|   low salaried|\n",
      "|        107|     Diana|  Lorentz|DLORENTZ|590.423.5567|07-FEB-07|   IT_PROG|  4200|          NULL|       103|           60|   low salaried|\n",
      "|        108|     Nancy|Greenberg|NGREENBE|515.124.4569|17-AUG-02|    FI_MGR| 12008|          NULL|       101|          100|  High salaried|\n",
      "|        109|    Daniel|   Faviet| DFAVIET|515.124.4169|16-AUG-02|FI_ACCOUNT|  9000|          NULL|       108|          100|   mid salaried|\n",
      "|        110|      John|     Chen|   JCHEN|515.124.4269|28-SEP-05|FI_ACCOUNT|  8200|          NULL|       108|          100|   mid salaried|\n",
      "+-----------+----------+---------+--------+------------+---------+----------+------+--------------+----------+-------------+---------------+\n",
      "only showing top 20 rows\n",
      "\n"
     ]
    },
    {
     "name": "stderr",
     "output_type": "stream",
     "text": [
      "                                                                                \r"
     ]
    }
   ],
   "source": [
    "# udf function trial fro commo practice\n",
    "\n",
    "from pyspark.sql.functions import udf \n",
    "\n",
    "def salary_category(salary):\n",
    "    if salary<5000:\n",
    "        return \"low salaried\"\n",
    "    elif salary < 10000:\n",
    "        return \"mid salaried\"\n",
    "    else:\n",
    "        return \"High salaried\"\n",
    "    \n",
    "\n",
    "salary_udf = udf(salary_category)\n",
    "\n",
    "df.withColumn(\"salary category\", salary_udf(col(\"salary\"))).show()"
   ]
  },
  {
   "cell_type": "code",
   "execution_count": 16,
   "metadata": {},
   "outputs": [
    {
     "name": "stdout",
     "output_type": "stream",
     "text": [
      "+-----------+----------+---------+--------+------------+---------+----------+------+--------------+----------+-------------+---------------+\n",
      "|employee_id|FIRST_NAME|LAST_NAME|   EMAIL|PHONE_NUMBER|HIRE_DATE|    JOB_ID|SALARY|COMMISSION_PCT|MANAGER_ID|DEPARTMENT_ID|salary category|\n",
      "+-----------+----------+---------+--------+------------+---------+----------+------+--------------+----------+-------------+---------------+\n",
      "|        198|    Donald| OConnell|DOCONNEL|650.507.9833|21-JUN-07|  SH_CLERK|  2600|          NULL|       124|           50|   low salaried|\n",
      "|        199|   Douglas|    Grant|  DGRANT|650.507.9844|13-JAN-08|  SH_CLERK|  2600|          NULL|       124|           50|   low salaried|\n",
      "|        200|  Jennifer|   Whalen| JWHALEN|515.123.4444|17-SEP-03|   AD_ASST|  4400|          NULL|       101|           10|   low salaried|\n",
      "|        201|   Michael|Hartstein|MHARTSTE|515.123.5555|17-FEB-04|    MK_MAN| 13000|          NULL|       100|           20|   high slaried|\n",
      "|        202|       Pat|      Fay|    PFAY|603.123.6666|17-AUG-05|    MK_REP|  6000|          NULL|       201|           20|   mid salaried|\n",
      "|        203|     Susan|   Mavris| SMAVRIS|515.123.7777|07-JUN-02|    HR_REP|  6500|          NULL|       101|           40|   mid salaried|\n",
      "|        204|   Hermann|     Baer|   HBAER|515.123.8888|07-JUN-02|    PR_REP| 10000|          NULL|       101|           70|   high slaried|\n",
      "|        205|   Shelley|  Higgins|SHIGGINS|515.123.8080|07-JUN-02|    AC_MGR| 12008|          NULL|       101|          110|   high slaried|\n",
      "|        206|   William|    Gietz|  WGIETZ|515.123.8181|07-JUN-02|AC_ACCOUNT|  8300|          NULL|       205|          110|   mid salaried|\n",
      "|        100|    Steven|     King|   SKING|515.123.4567|17-JUN-03|   AD_PRES| 24000|          NULL|      NULL|           90|   high slaried|\n",
      "|        101|     Neena|  Kochhar|NKOCHHAR|515.123.4568|21-SEP-05|     AD_VP| 17000|          NULL|       100|           90|   high slaried|\n",
      "|        102|       Lex|  De Haan| LDEHAAN|515.123.4569|13-JAN-01|     AD_VP| 17000|          NULL|       100|           90|   high slaried|\n",
      "|        103| Alexander|   Hunold| AHUNOLD|590.423.4567|03-JAN-06|   IT_PROG|  9000|          NULL|       102|           60|   mid salaried|\n",
      "|        104|     Bruce|    Ernst|  BERNST|590.423.4568|21-MAY-07|   IT_PROG|  6000|          NULL|       103|           60|   mid salaried|\n",
      "|        105|     David|   Austin| DAUSTIN|590.423.4569|25-JUN-05|   IT_PROG|  4800|          NULL|       103|           60|   low salaried|\n",
      "|        106|     Valli|Pataballa|VPATABAL|590.423.4560|05-FEB-06|   IT_PROG|  4800|          NULL|       103|           60|   low salaried|\n",
      "|        107|     Diana|  Lorentz|DLORENTZ|590.423.5567|07-FEB-07|   IT_PROG|  4200|          NULL|       103|           60|   low salaried|\n",
      "|        108|     Nancy|Greenberg|NGREENBE|515.124.4569|17-AUG-02|    FI_MGR| 12008|          NULL|       101|          100|   high slaried|\n",
      "|        109|    Daniel|   Faviet| DFAVIET|515.124.4169|16-AUG-02|FI_ACCOUNT|  9000|          NULL|       108|          100|   mid salaried|\n",
      "|        110|      John|     Chen|   JCHEN|515.124.4269|28-SEP-05|FI_ACCOUNT|  8200|          NULL|       108|          100|   mid salaried|\n",
      "+-----------+----------+---------+--------+------------+---------+----------+------+--------------+----------+-------------+---------------+\n",
      "only showing top 20 rows\n",
      "\n"
     ]
    }
   ],
   "source": [
    "# without udf\n",
    "from pyspark.sql.functions import col,when\n",
    "\n",
    "df.withColumn(\"salary category\", \n",
    "              when(col('salary') < 5000, \"low salaried\")\\\n",
    "                .when(col(\"salary\")< 10000, \"mid salaried\")\\\n",
    "                    .otherwise(\"high slaried\")).show()"
   ]
  },
  {
   "cell_type": "code",
   "execution_count": 23,
   "metadata": {},
   "outputs": [
    {
     "name": "stdout",
     "output_type": "stream",
     "text": [
      "+-----------+----------+---------+--------+------------+---------+----------+------+--------------+----------+-------------+--------------------+\n",
      "|employee_id|FIRST_NAME|LAST_NAME|   EMAIL|PHONE_NUMBER|HIRE_DATE|    JOB_ID|SALARY|COMMISSION_PCT|MANAGER_ID|DEPARTMENT_ID|     salary_category|\n",
      "+-----------+----------+---------+--------+------------+---------+----------+------+--------------+----------+-------------+--------------------+\n",
      "|        198|    Donald| OConnell|DOCONNEL|650.507.9833|21-JUN-07|  SH_CLERK|  2600|          NULL|       124|           50|lowsalaried and c...|\n",
      "|        199|   Douglas|    Grant|  DGRANT|650.507.9844|13-JAN-08|  SH_CLERK|  2600|          NULL|       124|           50|lowsalaried and c...|\n",
      "|        200|  Jennifer|   Whalen| JWHALEN|515.123.4444|17-SEP-03|   AD_ASST|  4400|          NULL|       101|           10|                NULL|\n",
      "|        201|   Michael|Hartstein|MHARTSTE|515.123.5555|17-FEB-04|    MK_MAN| 13000|          NULL|       100|           20|                NULL|\n",
      "|        202|       Pat|      Fay|    PFAY|603.123.6666|17-AUG-05|    MK_REP|  6000|          NULL|       201|           20|                NULL|\n",
      "|        203|     Susan|   Mavris| SMAVRIS|515.123.7777|07-JUN-02|    HR_REP|  6500|          NULL|       101|           40|                NULL|\n",
      "|        204|   Hermann|     Baer|   HBAER|515.123.8888|07-JUN-02|    PR_REP| 10000|          NULL|       101|           70|                NULL|\n",
      "|        205|   Shelley|  Higgins|SHIGGINS|515.123.8080|07-JUN-02|    AC_MGR| 12008|          NULL|       101|          110|                NULL|\n",
      "|        206|   William|    Gietz|  WGIETZ|515.123.8181|07-JUN-02|AC_ACCOUNT|  8300|          NULL|       205|          110|                NULL|\n",
      "|        100|    Steven|     King|   SKING|515.123.4567|17-JUN-03|   AD_PRES| 24000|          NULL|      NULL|           90|                NULL|\n",
      "|        101|     Neena|  Kochhar|NKOCHHAR|515.123.4568|21-SEP-05|     AD_VP| 17000|          NULL|       100|           90|                NULL|\n",
      "|        102|       Lex|  De Haan| LDEHAAN|515.123.4569|13-JAN-01|     AD_VP| 17000|          NULL|       100|           90|                NULL|\n",
      "|        103| Alexander|   Hunold| AHUNOLD|590.423.4567|03-JAN-06|   IT_PROG|  9000|          NULL|       102|           60|                NULL|\n",
      "|        104|     Bruce|    Ernst|  BERNST|590.423.4568|21-MAY-07|   IT_PROG|  6000|          NULL|       103|           60|                NULL|\n",
      "|        105|     David|   Austin| DAUSTIN|590.423.4569|25-JUN-05|   IT_PROG|  4800|          NULL|       103|           60|                NULL|\n",
      "|        106|     Valli|Pataballa|VPATABAL|590.423.4560|05-FEB-06|   IT_PROG|  4800|          NULL|       103|           60|                NULL|\n",
      "|        107|     Diana|  Lorentz|DLORENTZ|590.423.5567|07-FEB-07|   IT_PROG|  4200|          NULL|       103|           60|                NULL|\n",
      "|        108|     Nancy|Greenberg|NGREENBE|515.124.4569|17-AUG-02|    FI_MGR| 12008|          NULL|       101|          100|                NULL|\n",
      "|        109|    Daniel|   Faviet| DFAVIET|515.124.4169|16-AUG-02|FI_ACCOUNT|  9000|          NULL|       108|          100|                NULL|\n",
      "|        110|      John|     Chen|   JCHEN|515.124.4269|28-SEP-05|FI_ACCOUNT|  8200|          NULL|       108|          100|                NULL|\n",
      "+-----------+----------+---------+--------+------------+---------+----------+------+--------------+----------+-------------+--------------------+\n",
      "only showing top 20 rows\n",
      "\n"
     ]
    }
   ],
   "source": [
    "df.withColumn(\"salary_category\", when(((col(\"salary\") <5000) & (col(\"job_id\")==\"SH_CLERK\")), \"lowsalaried and cleark\")).show()"
   ]
  },
  {
   "cell_type": "code",
   "execution_count": 17,
   "metadata": {},
   "outputs": [
    {
     "name": "stdout",
     "output_type": "stream",
     "text": [
      "+-------------+-----------+\n",
      "|department_id|sum(salary)|\n",
      "+-------------+-----------+\n",
      "|           20|      19000|\n",
      "|           40|       6500|\n",
      "|          100|      51608|\n",
      "|           10|       4400|\n",
      "|           50|      85600|\n",
      "|           70|      10000|\n",
      "|           90|      58000|\n",
      "|           60|      28800|\n",
      "|          110|      20308|\n",
      "|           30|      24900|\n",
      "+-------------+-----------+\n",
      "\n"
     ]
    }
   ],
   "source": [
    "df.groupBy(\"department_id\").agg({\"salary\":\"sum\"}).show()"
   ]
  },
  {
   "cell_type": "code",
   "execution_count": 29,
   "metadata": {},
   "outputs": [
    {
     "name": "stdout",
     "output_type": "stream",
     "text": [
      "+-----------+----------+-----------+--------+------------+---------+--------+------+--------------+----------+-------------+------------+\n",
      "|employee_id|FIRST_NAME|  LAST_NAME|   EMAIL|PHONE_NUMBER|HIRE_DATE|  JOB_ID|SALARY|COMMISSION_PCT|MANAGER_ID|DEPARTMENT_ID|total salary|\n",
      "+-----------+----------+-----------+--------+------------+---------+--------+------+--------------+----------+-------------+------------+\n",
      "|        200|  Jennifer|     Whalen| JWHALEN|515.123.4444|17-SEP-03| AD_ASST|  4400|          NULL|       101|           10|        4400|\n",
      "|        201|   Michael|  Hartstein|MHARTSTE|515.123.5555|17-FEB-04|  MK_MAN| 13000|          NULL|       100|           20|       19000|\n",
      "|        202|       Pat|        Fay|    PFAY|603.123.6666|17-AUG-05|  MK_REP|  6000|          NULL|       201|           20|       19000|\n",
      "|        114|       Den|   Raphaely|DRAPHEAL|515.127.4561|07-DEC-02|  PU_MAN| 11000|          NULL|       100|           30|       24900|\n",
      "|        115| Alexander|       Khoo|   AKHOO|515.127.4562|18-MAY-03|PU_CLERK|  3100|          NULL|       114|           30|       24900|\n",
      "|        116|    Shelli|      Baida|  SBAIDA|515.127.4563|24-DEC-05|PU_CLERK|  2900|          NULL|       114|           30|       24900|\n",
      "|        117|     Sigal|     Tobias| STOBIAS|515.127.4564|24-JUL-05|PU_CLERK|  2800|          NULL|       114|           30|       24900|\n",
      "|        118|       Guy|     Himuro| GHIMURO|515.127.4565|15-NOV-06|PU_CLERK|  2600|          NULL|       114|           30|       24900|\n",
      "|        119|     Karen| Colmenares|KCOLMENA|515.127.4566|10-AUG-07|PU_CLERK|  2500|          NULL|       114|           30|       24900|\n",
      "|        203|     Susan|     Mavris| SMAVRIS|515.123.7777|07-JUN-02|  HR_REP|  6500|          NULL|       101|           40|        6500|\n",
      "|        198|    Donald|   OConnell|DOCONNEL|650.507.9833|21-JUN-07|SH_CLERK|  2600|          NULL|       124|           50|       85600|\n",
      "|        199|   Douglas|      Grant|  DGRANT|650.507.9844|13-JAN-08|SH_CLERK|  2600|          NULL|       124|           50|       85600|\n",
      "|        120|   Matthew|      Weiss|  MWEISS|650.123.1234|18-JUL-04|  ST_MAN|  8000|          NULL|       100|           50|       85600|\n",
      "|        121|      Adam|      Fripp|  AFRIPP|650.123.2234|10-APR-05|  ST_MAN|  8200|          NULL|       100|           50|       85600|\n",
      "|        122|     Payam|   Kaufling|PKAUFLIN|650.123.3234|01-MAY-03|  ST_MAN|  7900|          NULL|       100|           50|       85600|\n",
      "|        123|    Shanta|    Vollman|SVOLLMAN|650.123.4234|10-OCT-05|  ST_MAN|  6500|          NULL|       100|           50|       85600|\n",
      "|        124|     Kevin|    Mourgos|KMOURGOS|650.123.5234|16-NOV-07|  ST_MAN|  5800|          NULL|       100|           50|       85600|\n",
      "|        125|     Julia|      Nayer|  JNAYER|650.124.1214|16-JUL-05|ST_CLERK|  3200|          NULL|       120|           50|       85600|\n",
      "|        126|     Irene|Mikkilineni|IMIKKILI|650.124.1224|28-SEP-06|ST_CLERK|  2700|          NULL|       120|           50|       85600|\n",
      "|        127|     James|     Landry| JLANDRY|650.124.1334|14-JAN-07|ST_CLERK|  2400|          NULL|       120|           50|       85600|\n",
      "+-----------+----------+-----------+--------+------------+---------+--------+------+--------------+----------+-------------+------------+\n",
      "only showing top 20 rows\n",
      "\n"
     ]
    }
   ],
   "source": [
    "# trying windows function\n",
    "from pyspark.sql.window import Window\n",
    "from pyspark.sql.functions import sum\n",
    "\n",
    "win_spec = Window.partitionBy(\"department_id\")\n",
    "\n",
    "df.withColumn(\"total salary\", sum(\"salary\").over(win_spec)).orderBy(col(\"department_id\")).show()\n"
   ]
  },
  {
   "cell_type": "code",
   "execution_count": null,
   "metadata": {},
   "outputs": [],
   "source": []
  }
 ],
 "metadata": {
  "kernelspec": {
   "display_name": "gen_env",
   "language": "python",
   "name": "python3"
  },
  "language_info": {
   "codemirror_mode": {
    "name": "ipython",
    "version": 3
   },
   "file_extension": ".py",
   "mimetype": "text/x-python",
   "name": "python",
   "nbconvert_exporter": "python",
   "pygments_lexer": "ipython3",
   "version": "3.10.14"
  }
 },
 "nbformat": 4,
 "nbformat_minor": 2
}
