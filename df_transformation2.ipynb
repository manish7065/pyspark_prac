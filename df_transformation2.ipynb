{
 "cells": [
  {
   "cell_type": "code",
   "execution_count": 1,
   "metadata": {},
   "outputs": [
    {
     "name": "stderr",
     "output_type": "stream",
     "text": [
      "Setting default log level to \"WARN\".\n",
      "To adjust logging level use sc.setLogLevel(newLevel). For SparkR, use setLogLevel(newLevel).\n",
      "24/06/17 09:27:46 WARN NativeCodeLoader: Unable to load native-hadoop library for your platform... using builtin-java classes where applicable\n",
      "24/06/17 09:27:48 WARN Utils: Service 'SparkUI' could not bind on port 4040. Attempting port 4041.\n"
     ]
    }
   ],
   "source": [
    "from pyspark.sql import SparkSession\n",
    "spark = SparkSession.builder.master(\"local\").appName(\"trransformation2\").getOrCreate()"
   ]
  },
  {
   "cell_type": "code",
   "execution_count": 7,
   "metadata": {},
   "outputs": [],
   "source": [
    "# df = spark.read.option(\"header\",\"true\").option('delimiter','|').option(\"lineSep\",',').csv(\"data/input_real_estate.txt\")\n",
    "df = spark.read.option(\"header\",\"true\").option('delimiter','|').csv(\"data/input_real_estate.txt\")\n"
   ]
  },
  {
   "cell_type": "code",
   "execution_count": 8,
   "metadata": {},
   "outputs": [
    {
     "name": "stdout",
     "output_type": "stream",
     "text": [
      "+-----------+--------------+------+--------+---------+----+-----------+----------+\n",
      "|Property_ID|      Location| Price|Bedrooms|Bathrooms|Size|Price_SQ_FT|    Status|\n",
      "+-----------+--------------+------+--------+---------+----+-----------+----------+\n",
      "|    1461262| Arroyo Grande|795000|       3|        3|2371|      365.3|Short Sale|\n",
      "|    1478004|   Paulo Pablo|399000|       4|        3|2818|     163.59|Short Sale|\n",
      "|    1486551|   Paulo Pablo|545000|       4|        3|3032|     179.75|Short Sale|\n",
      "|    1492832|     Santa Bay|909000|       4|        4|3540|     286.78|Short Sale|\n",
      "|    1499102|Thomas Country|109900|       3|        1|1249|      98.99|Short Sale|\n",
      "|    1489132|Thomas Country|109000|       2|        1|1129|      93.99|Short Sale|\n",
      "|    1467262|    Fort Worth|987000|       4|        3|2771|      465.3|Short Sale|\n",
      "|    1478114|   Paulo Pablo|409000|       4|        3|2918|     223.19|Short Sale|\n",
      "|    1402551|     Nashville|545000|       4|        3|2932|     169.75|Short Sale|\n",
      "|    1405832|      San Jose|980000|       4|        4|3340|     290.98|Short Sale|\n",
      "|    1493302|    Fort Worth|119900|       3|        2|2249|     198.99|Short Sale|\n",
      "|    1412332|Thomas Country|129000|       3|        2|1329|      73.99|Short Sale|\n",
      "|    1469062| Arroyo Grande|798000|       3|        4|2321|      235.9|Short Sale|\n",
      "|    1498004|     Nashville|789000|       4|        3|2419|     263.59|Short Sale|\n",
      "|    1586751|     Nashville|896000|       4|        3|3132|     199.75|Short Sale|\n",
      "|    1433232|      Glendale|987000|       4|        4|3340|     216.78|Short Sale|\n",
      "|    1495502|    Fort Worth|219900|       3|        2| 987|     200.99|Short Sale|\n",
      "|    1489100|      San Jose|107200|       1|        1| 789|      78.99|Short Sale|\n",
      "+-----------+--------------+------+--------+---------+----+-----------+----------+\n",
      "\n"
     ]
    }
   ],
   "source": [
    "df.show()"
   ]
  },
  {
   "cell_type": "code",
   "execution_count": 10,
   "metadata": {},
   "outputs": [
    {
     "data": {
      "text/plain": [
       "[Row(Property_ID='1461262', Location='Arroyo Grande', Price='795000', Bedrooms='3', Bathrooms='3', Size='2371', Price_SQ_FT='365.3', Status='Short Sale'),\n",
       " Row(Property_ID='1478004', Location='Paulo Pablo', Price='399000', Bedrooms='4', Bathrooms='3', Size='2818', Price_SQ_FT='163.59', Status='Short Sale'),\n",
       " Row(Property_ID='1486551', Location='Paulo Pablo', Price='545000', Bedrooms='4', Bathrooms='3', Size='3032', Price_SQ_FT='179.75', Status='Short Sale'),\n",
       " Row(Property_ID='1492832', Location='Santa Bay', Price='909000', Bedrooms='4', Bathrooms='4', Size='3540', Price_SQ_FT='286.78', Status='Short Sale')]"
      ]
     },
     "execution_count": 10,
     "metadata": {},
     "output_type": "execute_result"
    }
   ],
   "source": [
    "df.head(4)"
   ]
  },
  {
   "cell_type": "code",
   "execution_count": 14,
   "metadata": {},
   "outputs": [],
   "source": [
    "from pyspark.sql.functions import col\n",
    "df2 = df.withColumn('final_price', col('Size')*col('Price_SQ_FT'))"
   ]
  },
  {
   "cell_type": "code",
   "execution_count": 16,
   "metadata": {},
   "outputs": [
    {
     "name": "stdout",
     "output_type": "stream",
     "text": [
      "+-----------+--------------+------+--------+---------+----+-----------+----------+------------------+\n",
      "|Property_ID|      Location| Price|Bedrooms|Bathrooms|Size|Price_SQ_FT|    Status|       final_price|\n",
      "+-----------+--------------+------+--------+---------+----+-----------+----------+------------------+\n",
      "|    1461262| Arroyo Grande|795000|       3|        3|2371|      365.3|Short Sale|          866126.3|\n",
      "|    1478004|   Paulo Pablo|399000|       4|        3|2818|     163.59|Short Sale|         460996.62|\n",
      "|    1486551|   Paulo Pablo|545000|       4|        3|3032|     179.75|Short Sale|          545002.0|\n",
      "|    1492832|     Santa Bay|909000|       4|        4|3540|     286.78|Short Sale|         1015201.2|\n",
      "|    1499102|Thomas Country|109900|       3|        1|1249|      98.99|Short Sale|         123638.51|\n",
      "|    1489132|Thomas Country|109000|       2|        1|1129|      93.99|Short Sale|106114.70999999999|\n",
      "|    1467262|    Fort Worth|987000|       4|        3|2771|      465.3|Short Sale|         1289346.3|\n",
      "|    1478114|   Paulo Pablo|409000|       4|        3|2918|     223.19|Short Sale|         651268.42|\n",
      "|    1402551|     Nashville|545000|       4|        3|2932|     169.75|Short Sale|          497707.0|\n",
      "|    1405832|      San Jose|980000|       4|        4|3340|     290.98|Short Sale| 971873.2000000001|\n",
      "|    1493302|    Fort Worth|119900|       3|        2|2249|     198.99|Short Sale|         447528.51|\n",
      "|    1412332|Thomas Country|129000|       3|        2|1329|      73.99|Short Sale| 98332.70999999999|\n",
      "|    1469062| Arroyo Grande|798000|       3|        4|2321|      235.9|Short Sale|          547523.9|\n",
      "|    1498004|     Nashville|789000|       4|        3|2419|     263.59|Short Sale|         637624.21|\n",
      "|    1586751|     Nashville|896000|       4|        3|3132|     199.75|Short Sale|          625617.0|\n",
      "|    1433232|      Glendale|987000|       4|        4|3340|     216.78|Short Sale|          724045.2|\n",
      "|    1495502|    Fort Worth|219900|       3|        2| 987|     200.99|Short Sale|         198377.13|\n",
      "|    1489100|      San Jose|107200|       1|        1| 789|      78.99|Short Sale| 62323.10999999999|\n",
      "+-----------+--------------+------+--------+---------+----+-----------+----------+------------------+\n",
      "\n"
     ]
    }
   ],
   "source": [
    "df2.show()"
   ]
  },
  {
   "cell_type": "code",
   "execution_count": 18,
   "metadata": {},
   "outputs": [],
   "source": [
    "df3 = df2.select('Property_ID','Location','final_price')"
   ]
  },
  {
   "cell_type": "code",
   "execution_count": 19,
   "metadata": {},
   "outputs": [
    {
     "name": "stdout",
     "output_type": "stream",
     "text": [
      "+-----------+--------------+------------------+\n",
      "|Property_ID|      Location|       final_price|\n",
      "+-----------+--------------+------------------+\n",
      "|    1461262| Arroyo Grande|          866126.3|\n",
      "|    1478004|   Paulo Pablo|         460996.62|\n",
      "|    1486551|   Paulo Pablo|          545002.0|\n",
      "|    1492832|     Santa Bay|         1015201.2|\n",
      "|    1499102|Thomas Country|         123638.51|\n",
      "|    1489132|Thomas Country|106114.70999999999|\n",
      "|    1467262|    Fort Worth|         1289346.3|\n",
      "|    1478114|   Paulo Pablo|         651268.42|\n",
      "|    1402551|     Nashville|          497707.0|\n",
      "|    1405832|      San Jose| 971873.2000000001|\n",
      "|    1493302|    Fort Worth|         447528.51|\n",
      "|    1412332|Thomas Country| 98332.70999999999|\n",
      "|    1469062| Arroyo Grande|          547523.9|\n",
      "|    1498004|     Nashville|         637624.21|\n",
      "|    1586751|     Nashville|          625617.0|\n",
      "|    1433232|      Glendale|          724045.2|\n",
      "|    1495502|    Fort Worth|         198377.13|\n",
      "|    1489100|      San Jose| 62323.10999999999|\n",
      "+-----------+--------------+------------------+\n",
      "\n"
     ]
    }
   ],
   "source": [
    "df3.show()"
   ]
  },
  {
   "cell_type": "code",
   "execution_count": 20,
   "metadata": {},
   "outputs": [],
   "source": [
    "df3.write.option(\"header\",'true').csv('data/output.csv')"
   ]
  },
  {
   "cell_type": "code",
   "execution_count": 21,
   "metadata": {},
   "outputs": [
    {
     "name": "stderr",
     "output_type": "stream",
     "text": [
      "                                                                                \r"
     ]
    }
   ],
   "source": [
    "df3.write.option(\"header\",'true').parquet('data/output_prq.csv')\n"
   ]
  },
  {
   "cell_type": "code",
   "execution_count": 22,
   "metadata": {},
   "outputs": [
    {
     "data": {
      "text/plain": [
       "Row(Property_ID='1461262', Location='Arroyo Grande', final_price=866126.3)"
      ]
     },
     "execution_count": 22,
     "metadata": {},
     "output_type": "execute_result"
    }
   ],
   "source": [
    "df3.first()"
   ]
  },
  {
   "cell_type": "code",
   "execution_count": null,
   "metadata": {},
   "outputs": [],
   "source": []
  }
 ],
 "metadata": {
  "kernelspec": {
   "display_name": "Python 3.8.10 64-bit",
   "language": "python",
   "name": "python3"
  },
  "language_info": {
   "codemirror_mode": {
    "name": "ipython",
    "version": 3
   },
   "file_extension": ".py",
   "mimetype": "text/x-python",
   "name": "python",
   "nbconvert_exporter": "python",
   "pygments_lexer": "ipython3",
   "version": "3.8.10"
  },
  "orig_nbformat": 4,
  "vscode": {
   "interpreter": {
    "hash": "e7370f93d1d0cde622a1f8e1c04877d8463912d04d973331ad4851f04de6915a"
   }
  }
 },
 "nbformat": 4,
 "nbformat_minor": 2
}
