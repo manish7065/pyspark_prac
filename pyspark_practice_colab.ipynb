{
  "nbformat": 4,
  "nbformat_minor": 0,
  "metadata": {
    "colab": {
      "private_outputs": true,
      "provenance": [],
      "authorship_tag": "ABX9TyPFdNgj2vRX04ZcaVu8WGKv",
      "include_colab_link": true
    },
    "kernelspec": {
      "name": "python3",
      "display_name": "Python 3"
    },
    "language_info": {
      "name": "python"
    }
  },
  "cells": [
    {
      "cell_type": "markdown",
      "metadata": {
        "id": "view-in-github",
        "colab_type": "text"
      },
      "source": [
        "<a href=\"https://colab.research.google.com/github/manish7065/pyspark_prac/blob/master/pyspark_practice_colab.ipynb\" target=\"_parent\"><img src=\"https://colab.research.google.com/assets/colab-badge.svg\" alt=\"Open In Colab\"/></a>"
      ]
    },
    {
      "cell_type": "code",
      "execution_count": null,
      "metadata": {
        "id": "Z3kpgdTIs_hY"
      },
      "outputs": [],
      "source": [
        "!pip install pyspark"
      ]
    },
    {
      "cell_type": "code",
      "source": [
        "#necessary libraries of pyspark\n",
        "from pyspark.sql import SparkSession\n",
        "from pyspark.sql.types import StructType,StructField, StringType, IntegerType\n",
        "\n",
        "\n",
        "if __name__ == '__main__':\n",
        "    #Creating spark session\n",
        "    spark = SparkSession.builder.appName(\"demo\").getOrCreate()\n",
        "\n",
        "    #Create list of data to prepare data frame\n",
        "    person_list = [(\"Berry\",\"\",\"Allen\",1,\"M\"),\n",
        "        (\"Oliver\",\"Queen\",\"\",2,\"M\"),\n",
        "        (\"Robert\",\"\",\"Williams\",3,\"M\"),\n",
        "        (\"Tony\",\"\",\"Stark\",4,\"F\"),\n",
        "        (\"Rajiv\",\"Mary\",\"Kumar\",5,\"F\")\n",
        "    ]\n",
        "\n",
        "\n",
        "    #defining schema for dataset\n",
        "    schema = StructType([ \\\n",
        "        StructField(\"firstname\",StringType(),True), \\\n",
        "        StructField(\"middlename\",StringType(),True), \\\n",
        "        StructField(\"lastname\",StringType(),True), \\\n",
        "        StructField(\"id\", IntegerType(), True), \\\n",
        "        StructField(\"gender\", StringType(), True), \\\n",
        "\n",
        "    ])\n",
        "\n",
        "    #creating spark dataframe\n",
        "    df = spark.createDataFrame(data=person_list,schema=schema)\n",
        "\n",
        "    #Printing data frame schema\n",
        "    df.printSchema()\n",
        "\n",
        "    #Printing data\n",
        "    df.show(truncate=False)\n",
        "\n",
        "    #Writing file in spark context\n",
        "    df.write.csv(\"record.csv\")\n"
      ],
      "metadata": {
        "id": "FOc1YyP_8dbS"
      },
      "execution_count": null,
      "outputs": []
    },
    {
      "cell_type": "code",
      "source": [
        "california_df = spark.read.csv(\"/content/sample_data/california_housing_train.csv\",header=True,inferSchema=True)\n",
        "california_df.show()"
      ],
      "metadata": {
        "id": "401dMnrL9efK"
      },
      "execution_count": null,
      "outputs": []
    },
    {
      "cell_type": "markdown",
      "source": [
        "## creating a temp view"
      ],
      "metadata": {
        "id": "myq6TZ23_-1h"
      }
    },
    {
      "cell_type": "code",
      "source": [
        "california_df.createOrReplaceTempView(\"california_housing_train_table\")\n"
      ],
      "metadata": {
        "id": "2XUF-C8KARKv"
      },
      "execution_count": null,
      "outputs": []
    },
    {
      "cell_type": "code",
      "source": [
        "query = \"\"\"\n",
        "SELECT * FROM california_housing_train_table\n",
        "WHERE median_house_value > 70000\n",
        "\"\"\"\n",
        "spark.sql(query).show()"
      ],
      "metadata": {
        "id": "UPBs2q_TA9ip"
      },
      "execution_count": null,
      "outputs": []
    },
    {
      "cell_type": "code",
      "source": [
        "from google.colab import drive\n",
        "drive.mount('/content/drive')"
      ],
      "metadata": {
        "id": "8MGTU6lH_MzZ"
      },
      "execution_count": null,
      "outputs": []
    }
  ]
}