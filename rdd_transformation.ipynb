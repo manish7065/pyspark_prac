{
 "cells": [
  {
   "cell_type": "code",
   "execution_count": 1,
   "metadata": {},
   "outputs": [
    {
     "name": "stderr",
     "output_type": "stream",
     "text": [
      "Setting default log level to \"WARN\".\n",
      "To adjust logging level use sc.setLogLevel(newLevel). For SparkR, use setLogLevel(newLevel).\n",
      "24/06/17 09:18:18 WARN NativeCodeLoader: Unable to load native-hadoop library for your platform... using builtin-java classes where applicable\n"
     ]
    }
   ],
   "source": [
    "from pyspark.sql import SparkSession\n",
    "spark = SparkSession.builder.master(\"local\").appName(\"trransformation\").getOrCreate()\n",
    "sc = spark.sparkContext"
   ]
  },
  {
   "cell_type": "code",
   "execution_count": 2,
   "metadata": {},
   "outputs": [],
   "source": [
    "rdd_in = sc.textFile(\"data/input_real_estate.txt\")"
   ]
  },
  {
   "cell_type": "code",
   "execution_count": 5,
   "metadata": {},
   "outputs": [
    {
     "data": {
      "text/plain": [
       "['Property_ID|Location|Price|Bedrooms|Bathrooms|Size|Price_SQ_FT|Status',\n",
       " '1461262|Arroyo Grande|795000|3|3|2371|365.3|Short Sale',\n",
       " '1478004|Paulo Pablo|399000|4|3|2818|163.59|Short Sale',\n",
       " '1486551|Paulo Pablo|545000|4|3|3032|179.75|Short Sale',\n",
       " '1492832|Santa Bay|909000|4|4|3540|286.78|Short Sale',\n",
       " '1499102|Thomas Country|109900|3|1|1249|98.99|Short Sale',\n",
       " '1489132|Thomas Country|109000|2|1|1129|93.99|Short Sale',\n",
       " '1467262|Fort Worth|987000|4|3|2771|465.3|Short Sale',\n",
       " '1478114|Paulo Pablo|409000|4|3|2918|223.19|Short Sale',\n",
       " '1402551|Nashville|545000|4|3|2932|169.75|Short Sale',\n",
       " '1405832|San Jose|980000|4|4|3340|290.98|Short Sale',\n",
       " '1493302|Fort Worth|119900|3|2|2249|198.99|Short Sale',\n",
       " '1412332|Thomas Country|129000|3|2|1329|73.99|Short Sale',\n",
       " '1469062|Arroyo Grande|798000|3|4|2321|235.9|Short Sale',\n",
       " '1498004|Nashville|789000|4|3|2419|263.59|Short Sale',\n",
       " '1586751|Nashville|896000|4|3|3132|199.75|Short Sale',\n",
       " '1433232|Glendale|987000|4|4|3340|216.78|Short Sale',\n",
       " '1495502|Fort Worth|219900|3|2|987|200.99|Short Sale',\n",
       " '1489100|San Jose|107200|1|1|789|78.99|Short Sale']"
      ]
     },
     "execution_count": 5,
     "metadata": {},
     "output_type": "execute_result"
    }
   ],
   "source": [
    "rdd_in.collect()"
   ]
  },
  {
   "cell_type": "code",
   "execution_count": 15,
   "metadata": {},
   "outputs": [],
   "source": [
    "# Distinguish header and data\n",
    "rdd1 = rdd_in.filter(lambda l: not l.startswith(\"Property_ID\"))\n",
    "header = rdd_in.filter(lambda l: l.startswith(\"Property_ID\"))\n",
    "\n"
   ]
  },
  {
   "cell_type": "code",
   "execution_count": 16,
   "metadata": {},
   "outputs": [
    {
     "data": {
      "text/plain": [
       "['Property_ID',\n",
       " 'Location',\n",
       " 'Price',\n",
       " 'Bedrooms',\n",
       " 'Bathrooms',\n",
       " 'Size',\n",
       " 'Price_SQ_FT',\n",
       " 'Status']"
      ]
     },
     "execution_count": 16,
     "metadata": {},
     "output_type": "execute_result"
    }
   ],
   "source": [
    "header.collect()[0].split(\"|\")"
   ]
  },
  {
   "cell_type": "code",
   "execution_count": 17,
   "metadata": {},
   "outputs": [],
   "source": [
    "# Applying the flatmap and map to get the column data\n",
    "rdd2 = rdd1.flatMap(lambda x:x.split(\",\")).map(lambda x:x.split(\"|\"))\n"
   ]
  },
  {
   "cell_type": "code",
   "execution_count": 19,
   "metadata": {},
   "outputs": [],
   "source": [
    "# Get the index of required column\n",
    "col_list = header.first().split('|')\n",
    "i1 = col_list.index(\"Property_ID\")\n",
    "i2 = col_list.index(\"Location\")\n",
    "i3 = col_list.index(\"Size\")\n",
    "i4 = col_list.index(\"Price_SQ_FT\")\n",
    "\n",
    "\n"
   ]
  },
  {
   "cell_type": "code",
   "execution_count": 20,
   "metadata": {},
   "outputs": [],
   "source": [
    "def final_price(d1,d2):\n",
    "    result = float(d1)*float(d2)\n",
    "    return str(result)"
   ]
  },
  {
   "cell_type": "code",
   "execution_count": 22,
   "metadata": {},
   "outputs": [
    {
     "data": {
      "text/plain": [
       "['Property_ID|Location|final_price']"
      ]
     },
     "execution_count": 22,
     "metadata": {},
     "output_type": "execute_result"
    }
   ],
   "source": [
    "header_out = header.map(lambda x:x.split(\"|\")[i1]+\"|\"+x.split('|')[i2]+'|final_price')\n",
    "header_out.collect()"
   ]
  },
  {
   "cell_type": "code",
   "execution_count": 25,
   "metadata": {},
   "outputs": [
    {
     "data": {
      "text/plain": [
       "['1461262|Arroyo Grande|866126.3',\n",
       " '1478004|Paulo Pablo|460996.62',\n",
       " '1486551|Paulo Pablo|545002.0',\n",
       " '1492832|Santa Bay|1015201.2',\n",
       " '1499102|Thomas Country|123638.51',\n",
       " '1489132|Thomas Country|106114.70999999999',\n",
       " '1467262|Fort Worth|1289346.3',\n",
       " '1478114|Paulo Pablo|651268.42',\n",
       " '1402551|Nashville|497707.0',\n",
       " '1405832|San Jose|971873.2000000001',\n",
       " '1493302|Fort Worth|447528.51',\n",
       " '1412332|Thomas Country|98332.70999999999',\n",
       " '1469062|Arroyo Grande|547523.9',\n",
       " '1498004|Nashville|637624.21',\n",
       " '1586751|Nashville|625617.0',\n",
       " '1433232|Glendale|724045.2',\n",
       " '1495502|Fort Worth|198377.13',\n",
       " '1489100|San Jose|62323.10999999999']"
      ]
     },
     "execution_count": 25,
     "metadata": {},
     "output_type": "execute_result"
    }
   ],
   "source": [
    "rdd3 = rdd2.map(lambda x: x[i1]+'|'+x[i2]+'|'+final_price(x[i3],x[i4]))    \n",
    "rdd3.collect()                                                                           "
   ]
  },
  {
   "cell_type": "code",
   "execution_count": 27,
   "metadata": {},
   "outputs": [
    {
     "data": {
      "text/plain": [
       "['Property_ID|Location|final_price',\n",
       " '1461262|Arroyo Grande|866126.3',\n",
       " '1478004|Paulo Pablo|460996.62',\n",
       " '1486551|Paulo Pablo|545002.0',\n",
       " '1492832|Santa Bay|1015201.2',\n",
       " '1499102|Thomas Country|123638.51',\n",
       " '1489132|Thomas Country|106114.70999999999',\n",
       " '1467262|Fort Worth|1289346.3',\n",
       " '1478114|Paulo Pablo|651268.42',\n",
       " '1402551|Nashville|497707.0',\n",
       " '1405832|San Jose|971873.2000000001',\n",
       " '1493302|Fort Worth|447528.51',\n",
       " '1412332|Thomas Country|98332.70999999999',\n",
       " '1469062|Arroyo Grande|547523.9',\n",
       " '1498004|Nashville|637624.21',\n",
       " '1586751|Nashville|625617.0',\n",
       " '1433232|Glendale|724045.2',\n",
       " '1495502|Fort Worth|198377.13',\n",
       " '1489100|San Jose|62323.10999999999']"
      ]
     },
     "execution_count": 27,
     "metadata": {},
     "output_type": "execute_result"
    }
   ],
   "source": [
    "final_out = header_out.union(rdd3)\n",
    "final_out.collect()"
   ]
  },
  {
   "cell_type": "code",
   "execution_count": 29,
   "metadata": {},
   "outputs": [],
   "source": [
    "final_out.coalesce(1).saveAsTextFile(\"data/output.txt\")"
   ]
  },
  {
   "cell_type": "code",
   "execution_count": 30,
   "metadata": {},
   "outputs": [
    {
     "data": {
      "text/plain": [
       "['Property_ID|Location|final_price',\n",
       " '1461262|Arroyo Grande|866126.3',\n",
       " '1478004|Paulo Pablo|460996.62',\n",
       " '1486551|Paulo Pablo|545002.0',\n",
       " '1492832|Santa Bay|1015201.2',\n",
       " '1499102|Thomas Country|123638.51',\n",
       " '1489132|Thomas Country|106114.70999999999',\n",
       " '1467262|Fort Worth|1289346.3',\n",
       " '1478114|Paulo Pablo|651268.42',\n",
       " '1402551|Nashville|497707.0',\n",
       " '1405832|San Jose|971873.2000000001',\n",
       " '1493302|Fort Worth|447528.51',\n",
       " '1412332|Thomas Country|98332.70999999999',\n",
       " '1469062|Arroyo Grande|547523.9',\n",
       " '1498004|Nashville|637624.21',\n",
       " '1586751|Nashville|625617.0',\n",
       " '1433232|Glendale|724045.2',\n",
       " '1495502|Fort Worth|198377.13',\n",
       " '1489100|San Jose|62323.10999999999']"
      ]
     },
     "execution_count": 30,
     "metadata": {},
     "output_type": "execute_result"
    }
   ],
   "source": [
    "final_out.collect()"
   ]
  },
  {
   "cell_type": "code",
   "execution_count": null,
   "metadata": {},
   "outputs": [],
   "source": []
  }
 ],
 "metadata": {
  "kernelspec": {
   "display_name": "Python 3.8.10 64-bit",
   "language": "python",
   "name": "python3"
  },
  "language_info": {
   "codemirror_mode": {
    "name": "ipython",
    "version": 3
   },
   "file_extension": ".py",
   "mimetype": "text/x-python",
   "name": "python",
   "nbconvert_exporter": "python",
   "pygments_lexer": "ipython3",
   "version": "3.8.10"
  },
  "orig_nbformat": 4,
  "vscode": {
   "interpreter": {
    "hash": "e7370f93d1d0cde622a1f8e1c04877d8463912d04d973331ad4851f04de6915a"
   }
  }
 },
 "nbformat": 4,
 "nbformat_minor": 2
}
